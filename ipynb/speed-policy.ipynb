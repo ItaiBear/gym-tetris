{
 "cells": [
  {
   "cell_type": "code",
   "execution_count": 1,
   "metadata": {},
   "outputs": [],
   "source": [
    "from matplotlib import pyplot as plt"
   ]
  },
  {
   "cell_type": "code",
   "execution_count": 2,
   "metadata": {},
   "outputs": [],
   "source": [
    "def f(x):\n",
    "    return 8 / x"
   ]
  },
  {
   "cell_type": "code",
   "execution_count": 3,
   "metadata": {},
   "outputs": [],
   "source": [
    "speeds = [f(x) for x in range(1, 30)]"
   ]
  },
  {
   "cell_type": "code",
   "execution_count": 4,
   "metadata": {},
   "outputs": [
    {
     "data": {
      "text/plain": [
       "[8.0,\n",
       " 4.0,\n",
       " 2.6666666666666665,\n",
       " 2.0,\n",
       " 1.6,\n",
       " 1.3333333333333333,\n",
       " 1.1428571428571428,\n",
       " 1.0,\n",
       " 0.8888888888888888,\n",
       " 0.8,\n",
       " 0.7272727272727273,\n",
       " 0.6666666666666666,\n",
       " 0.6153846153846154,\n",
       " 0.5714285714285714,\n",
       " 0.5333333333333333,\n",
       " 0.5,\n",
       " 0.47058823529411764,\n",
       " 0.4444444444444444,\n",
       " 0.42105263157894735,\n",
       " 0.4,\n",
       " 0.38095238095238093,\n",
       " 0.36363636363636365,\n",
       " 0.34782608695652173,\n",
       " 0.3333333333333333,\n",
       " 0.32,\n",
       " 0.3076923076923077,\n",
       " 0.2962962962962963,\n",
       " 0.2857142857142857,\n",
       " 0.27586206896551724]"
      ]
     },
     "execution_count": 4,
     "metadata": {},
     "output_type": "execute_result"
    }
   ],
   "source": [
    "speeds"
   ]
  },
  {
   "cell_type": "code",
   "execution_count": 5,
   "metadata": {},
   "outputs": [
    {
     "data": {
      "text/plain": [
       "[<matplotlib.lines.Line2D at 0x7f3c421fd080>]"
      ]
     },
     "execution_count": 5,
     "metadata": {},
     "output_type": "execute_result"
    },
    {
     "data": {
      "image/png": "[encoded data removed]",
      "text/plain": [
       "<matplotlib.figure.Figure at 0x7f3c444d19e8>"
      ]
     },
     "metadata": {},
     "output_type": "display_data"
    }
   ],
   "source": [
    "plt.plot(speeds)"
   ]
  },
  {
   "cell_type": "markdown",
   "metadata": {},
   "source": [
    " "
   ]
  }
 ],
 "metadata": {
  "kernelspec": {
   "display_name": "Python 3",
   "language": "python",
   "name": "python3"
  },
  "language_info": {
   "codemirror_mode": {
    "name": "ipython",
    "version": 3
   },
   "file_extension": ".py",
   "mimetype": "text/x-python",
   "name": "python",
   "nbconvert_exporter": "python",
   "pygments_lexer": "ipython3",
   "version": "3.5.2"
  }
 },
 "nbformat": 4,
 "nbformat_minor": 2
}
